{
 "cells": [
  {
   "cell_type": "code",
   "execution_count": 109,
   "metadata": {
    "collapsed": true
   },
   "outputs": [],
   "source": [
    "import base64\n",
    "import numpy as np\n",
    "import matplotlib.pyplot as plt\n",
    "from mpl_toolkits.mplot3d import Axes3D"
   ]
  },
  {
   "cell_type": "code",
   "execution_count": 2,
   "metadata": {
    "collapsed": true
   },
   "outputs": [],
   "source": [
    "dictionary = {}"
   ]
  },
  {
   "cell_type": "markdown",
   "metadata": {},
   "source": [
    "## Helper Functions"
   ]
  },
  {
   "cell_type": "code",
   "execution_count": 170,
   "metadata": {
    "scrolled": true
   },
   "outputs": [],
   "source": [
    "def values_to_code(*vals): # tuple or list to hex code\n",
    "    return '.'.join([(hex(val).split('x')[-1]).upper() for val in vals])\n",
    "\n",
    "def code_to_values(code): # hex code to dec list\n",
    "    l = code.split('.')\n",
    "    l = [int(v, 16) for v in l]\n",
    "    return l\n",
    "\n",
    "def add_word(word, code):\n",
    "    dictionary[word] = code\n",
    "    return code\n",
    "\n",
    "def print_dictionary(d):\n",
    "    print('English\\t\\tHexcode\\t\\t\\tValues\\n')\n",
    "    [print('{0}\\t\\t{1}\\t\\t{2}'.format(w, d[w], code_to_values(d[w]))) for w in d]\n",
    "    \n",
    "def plot_dictionary(d):\n",
    "    words = d.keys()\n",
    "    codes = [(d[w]) for w in words]\n",
    "    values = [code_to_values(c) for c in codes]\n",
    "    fig, axes = plt.subplots(3, 3)\n",
    "    fig.subplots_adjust(hspace=0.5, wspace=0.5)\n",
    "    for ax in axes:\n",
    "        ax.scatter(values[0], values[1], c='b', marker='o')\n",
    "\n",
    "    plt.show()"
   ]
  },
  {
   "cell_type": "code",
   "execution_count": 171,
   "metadata": {
    "scrolled": true
   },
   "outputs": [
    {
     "name": "stdout",
     "output_type": "stream",
     "text": [
      "English\t\tHexcode\t\t\tValues\n",
      "\n",
      "red\t\t1.35.2.C\t\t[1, 53, 2, 12]\n",
      "green\t\t5.D.17.8\t\t[5, 13, 23, 8]\n",
      "blue\t\t1.E.2.1D\t\t[1, 14, 2, 29]\n"
     ]
    }
   ],
   "source": [
    "add_word('red', values_to_code(1, 53, 2, 12))\n",
    "add_word('green', values_to_code(5, 13, 23, 8))\n",
    "add_word('blue', values_to_code(1, 14, 2, 29))\n",
    "\n",
    "print_dictionary(dictionary)"
   ]
  }
 ],
 "metadata": {
  "kernelspec": {
   "display_name": "Python 3",
   "language": "python",
   "name": "python3"
  },
  "language_info": {
   "codemirror_mode": {
    "name": "ipython",
    "version": 3
   },
   "file_extension": ".py",
   "mimetype": "text/x-python",
   "name": "python",
   "nbconvert_exporter": "python",
   "pygments_lexer": "ipython3",
   "version": "3.5.3"
  }
 },
 "nbformat": 4,
 "nbformat_minor": 2
}
